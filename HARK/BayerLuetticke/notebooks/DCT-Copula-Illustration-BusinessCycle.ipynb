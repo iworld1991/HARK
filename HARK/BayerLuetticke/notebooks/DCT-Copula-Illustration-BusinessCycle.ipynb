{
 "cells": [
  {
   "cell_type": "markdown",
   "metadata": {},
   "source": [
    "# Dimensionality Reduction in [Bayer and Luetticke (2018)](https://cepr.org/active/publications/discussion_papers/dp.php?dpno=13071)\n",
    "\n",
    "[![Binder](https://mybinder.org/badge_logo.svg)](https://mybinder.org/v2/gh/econ-ark/HARK/BayerLuetticke?filepath=HARK%2FBayerLuetticke%2FDCT-Copula-Illustration.ipynb)\n",
    "\n",
    "This companion to the [main notebook](TwoAsset.ipynb) explains in more detail how the authors reduce the dimensionality of their problem\n",
    "\n",
    "- Based on original slides by Christian Bayer and Ralph Luetticke \n",
    "- Original Jupyter notebook by Seungcheol Lee \n",
    "- Further edits by Chris Carroll, Tao Wang \n"
   ]
  },
  {
   "cell_type": "markdown",
   "metadata": {},
   "source": [
    "### Preliminaries\n",
    "\n",
    "In Steady-state Equilibrium (StE) in the model, in any given period, a consumer in state $s$ (which comprises liquid assets $m$, illiquid assets $k$, and human capital $\\newcommand{hLev}{h}\\hLev$) has two key choices:\n",
    "1. To adjust ('a') or not adjust ('n') their holdings of illiquid assets $k$\n",
    "1. Contingent on that choice, decide the level of consumption, yielding consumption functions:\n",
    "    * $c_n(s)$ - nonadjusters\n",
    "    * $c_a(s)$ - adjusters\n",
    "\n",
    "The usual envelope theorem applies here, so marginal value wrt the liquid asset equals marginal utility with respect to consumption:\n",
    "$[\\frac{d v}{d m} = \\frac{d u}{d c}]$.\n",
    "In practice, the authors solve their problem using the marginal value of money $\\texttt{Vm} = dv/dm$, but because the marginal utility function is invertible it is trivial to recover $\\texttt{c}$ from $(u^{\\prime})^{-1}(\\texttt{Vm} )$.  The consumption function is therefore computed from the $\\texttt{Vm}$ function"
   ]
  },
  {
   "cell_type": "code",
   "execution_count": 1,
   "metadata": {
    "code_folding": [
     0
    ]
   },
   "outputs": [],
   "source": [
    "# Setup stuff\n",
    "\n",
    "# This is a jupytext paired notebook that autogenerates a corresponding .py file\n",
    "# which can be executed from a terminal command line via \"ipython [name].py\"\n",
    "# But a terminal does not permit inline figures, so we need to test jupyter vs terminal\n",
    "# Google \"how can I check if code is executed in the ipython notebook\"\n",
    "def in_ipynb():\n",
    "    try:\n",
    "        if str(type(get_ipython())) == \"<class 'ipykernel.zmqshell.ZMQInteractiveShell'>\":\n",
    "            return True\n",
    "        else:\n",
    "            return False\n",
    "    except NameError:\n",
    "        return False\n",
    "\n",
    "# Determine whether to make the figures inline (for spyder or jupyter)\n",
    "# vs whatever is the automatic setting that will apply if run from the terminal\n",
    "if in_ipynb():\n",
    "    # %matplotlib inline generates a syntax error when run from the shell\n",
    "    # so do this instead\n",
    "    get_ipython().run_line_magic('matplotlib', 'inline') \n",
    "else:\n",
    "    get_ipython().run_line_magic('matplotlib', 'auto') \n",
    "    \n",
    "# The tools for navigating the filesystem\n",
    "import sys\n",
    "import os\n",
    "\n",
    "# Find pathname to this file:\n",
    "my_file_path = os.path.dirname(os.path.abspath(\"DCT-Copula-Illustration.ipynb\"))\n",
    "\n",
    "# Relative directory for pickled code\n",
    "code_dir = os.path.join(my_file_path, \"../Assets/Two\") \n",
    "\n",
    "sys.path.insert(0, code_dir)\n",
    "sys.path.insert(0, my_file_path)"
   ]
  },
  {
   "cell_type": "code",
   "execution_count": 2,
   "metadata": {
    "code_folding": []
   },
   "outputs": [],
   "source": [
    "# Load precalculated Stationary Equilibrium (StE) object EX3SS\n",
    "\n",
    "import pickle\n",
    "os.chdir(code_dir) # Go to the directory with pickled code\n",
    "\n",
    "## EX3SS_20.p is the information in the stationary equilibrium \n",
    "## (20: the number of illiquid and liquid weath gridpoints)\n",
    "### The comments above are original, but it seems that there are 30 not 20 points now\n",
    "\n",
    "EX3SS=pickle.load(open(\"EX3SS_20.p\", \"rb\"))"
   ]
  },
  {
   "cell_type": "markdown",
   "metadata": {},
   "source": [
    "### Dimensions\n",
    "\n",
    "The imported StE solution to the problem represents the functions at a set of gridpoints of\n",
    "   * liquid assets ($n_m$ points), illiquid assets ($n_k$), and human capital ($n_h$)\n",
    "      * In the code these are $\\{\\texttt{nm,nk,nh}\\}$\n",
    "\n",
    "So even if the grids are fairly sparse for each state variable, the total number of combinations of the idiosyncratic state gridpoints is large: $n = n_m \\times n_k \\times n_h$.  So, e.g., $\\bar{c}$ is a set of size $n$ containing the level of consumption at each possible _combination_ of gridpoints.\n",
    "\n",
    "In the \"real\" micro problem, it would almost never happen that a continuous variable like $m$ would end up being exactly equal to one of the prespecified gridpoints. But the functions need to be evaluated at such non-grid points.  This is addressed by linear interpolation.  That is, if, say, the grid had $m_{8} = 40$ and $m_{9} = 50$ then and a consumer ended up with $m = 45$ then the approximation is that $\\tilde{c}(45) = 0.5 \\bar{c}_{8} + 0.5 \\bar{c}_{9}$.\n"
   ]
  },
  {
   "cell_type": "code",
   "execution_count": 3,
   "metadata": {
    "code_folding": [
     0
    ],
    "lines_to_next_cell": 2,
    "scrolled": false
   },
   "outputs": [
    {
     "name": "stdout",
     "output_type": "stream",
     "text": [
      "c_n is of dimension: (30, 30, 4)\n",
      "c_a is of dimension: (30, 30, 4)\n",
      "Vk is of dimension:(30, 30, 4)\n",
      "Vm is of dimension:(30, 30, 4)\n",
      "For convenience, these are all constructed from the same exogenous grids:\n",
      "30 gridpoints for liquid assets;\n",
      "30 gridpoints for illiquid assets;\n",
      "4 gridpoints for individual productivity.\n",
      "\n",
      "Therefore, the joint distribution is of size: \n",
      "30 * 30 * 4 = 3600\n"
     ]
    }
   ],
   "source": [
    "# Show dimensions of the consumer's problem (state space)\n",
    "\n",
    "print('c_n is of dimension: ' + str(EX3SS['mutil_c_n'].shape))\n",
    "print('c_a is of dimension: ' + str(EX3SS['mutil_c_a'].shape))\n",
    "\n",
    "print('Vk is of dimension:' + str(EX3SS['Vk'].shape))\n",
    "print('Vm is of dimension:' + str(EX3SS['Vm'].shape))\n",
    "\n",
    "print('For convenience, these are all constructed from the same exogenous grids:')\n",
    "print(str(len(EX3SS['grid']['m']))+' gridpoints for liquid assets;')\n",
    "print(str(len(EX3SS['grid']['k']))+' gridpoints for illiquid assets;')\n",
    "print(str(len(EX3SS['grid']['h']))+' gridpoints for individual productivity.')\n",
    "print('')\n",
    "print('Therefore, the joint distribution is of size: ')\n",
    "print(str(EX3SS['mpar']['nm'])+\n",
    "      ' * '+str(EX3SS['mpar']['nk'])+\n",
    "      ' * '+str(EX3SS['mpar']['nh'])+\n",
    "      ' = '+ str(EX3SS['mpar']['nm']*EX3SS['mpar']['nk']*EX3SS['mpar']['nh']))"
   ]
  },
  {
   "cell_type": "markdown",
   "metadata": {},
   "source": [
    "### Dimension Reduction\n",
    "\n",
    "The authors use different dimensionality reduction methods for the consumer's problem and the distribution across idiosyncratic states"
   ]
  },
  {
   "cell_type": "markdown",
   "metadata": {},
   "source": [
    "#### Representing the consumer's problem with Basis Functions\n",
    "\n",
    "The idea is to find an efficient \"compressed\" representation of our functions (e.g., the consumption function), which BL do using tools originally developed for image compression.  The analogy to image compression is that nearby pixels are likely to have identical or very similar colors, so we need only to find an efficient way to represent how the colors _change_ from one pixel to nearby ones.  Similarly, consumption at a given point $s_{i}$ is likely to be close to consumption point at another point $s_{j}$ that is \"close\" in the state space (similar wealth, income, etc), so a function that captures that similarity efficiently can preserve most of the information without keeping all of the points.\n",
    "\n",
    "Like linear interpolation, the [DCT transformation](https://en.wikipedia.org/wiki/Discrete_cosine_transform) is a method of representing a continuous function using a finite set of numbers. It uses a set of independent [basis functions](https://en.wikipedia.org/wiki/Basis_function) to do this.\n",
    "\n",
    "But it turns out that some of those basis functions are much more important than others in representing the steady-state functions. Dimension reduction is accomplished by basically ignoring all basis functions that make \"small enough\" contributions to the representation of the function.  \n",
    "\n",
    "##### When might this go wrong?\n",
    "\n",
    "Suppose the consumption function changes in a recession in ways that change behavior radically at some states.  Like, suppose unemployment almost never happens in steady state, but it can happen in temporary recessions.  Suppose further that, even for employed people, in a recession, _worries_ about unemployment cause many of them to prudently withdraw some of their illiquid assets -- behavior opposite of what people in the same state would be doing during expansions.  In that case, the basis functions that represented the steady state function would have had no incentive to be able to represent well the part of the space that is never seen in steady state, so any functions that might help do so might well have been dropped in the dimension reduction stage.\n",
    "\n",
    "On the whole, it seems unlikely that this kind of thing is a major problem, because the vast majority of the variation that people experience is idiosyncratic.  There is always unemployment, for example; it just moves up and down a bit with aggregate shocks, but since the experience of unemployment is in fact well represented in the steady state the method should have no trouble capturing it.\n",
    "\n",
    "Where the method might have more trouble is in representing economies in which there are multiple equilibria in which behavior is quite different."
   ]
  },
  {
   "cell_type": "markdown",
   "metadata": {},
   "source": [
    "#### For the distribution of agents across states: Copula\n",
    "\n",
    "The other tool the authors use is the [\"copula\"](https://en.wikipedia.org/wiki/Copula_(probability_theory)), which allows us to represent the distribution of people across idiosyncratic states efficiently\n",
    "\n",
    "The copula is computed from the joint distribution of states in StE and will be used to transform the [marginal distributions](https://en.wikipedia.org/wiki/Marginal_distribution) back to joint distributions.  (For an illustration of how the assumptions used when modeling asset price distributions using copulas can fail see [Salmon](https://www.wired.com/2009/02/wp-quant/))\n",
    "\n",
    "   * A copula is a representation of the joint distribution expressed using a mapping between the uniform joint CDF and the marginal distributions of the variables\n",
    "   \n",
    "   * The crucial assumption is that what aggregate shocks do is to squeeze or distort the steady state distribution, but leave the rank structure of the distribution the same\n",
    "      * An example of when this might not hold is the following.  Suppose that in expansions, the people at the top of the distribution of illiquid assets (the top 1 percent, say) are also at the top 1 percent of liquid assets. But in recessions the bottom 99 percent get angry at the top 1 percent of illiquid asset holders and confiscate part of their liquid assets (the illiquid assets can't be confiscated quickly because they are illiquid). Now the people in the top 99 percent of illiquid assets might be in the _bottom_ 1 percent of liquid assets.\n",
    "   \n",
    "- In this case we just need to represent how the mapping from ranks into levels of assets\n",
    "\n",
    "- This reduces the number of points for which we need to track transitions from $3600 = 30 \\times 30 \\times 4$ to $64 = 30+30+4$.  Or the total number of points we need to contemplate goes from $3600^2 \\approx 13 $million to $64^2=4096$.  "
   ]
  },
  {
   "cell_type": "code",
   "execution_count": 4,
   "metadata": {
    "code_folding": [
     0
    ],
    "lines_to_next_cell": 2
   },
   "outputs": [
    {
     "name": "stdout",
     "output_type": "stream",
     "text": [
      "The copula consists of two parts: gridpoints and values at those gridpoints:\n",
      " gridpoints have dimensionality of (3600, 3)\n",
      " where the first element is total number of gridpoints\n",
      " and the second element is number of idiosyncratic state variables\n",
      " whose values also are of dimension of 3600\n",
      " each entry of which is the probability that all three of the\n",
      " state variables are below the corresponding point.\n"
     ]
    }
   ],
   "source": [
    "# Get some specs about the copula, which is precomputed in the EX3SS object\n",
    "\n",
    "print('The copula consists of two parts: gridpoints and values at those gridpoints:'+ \\\n",
    "      '\\n gridpoints have dimensionality of '+str(EX3SS['Copula']['grid'].shape) + \\\n",
    "      '\\n where the first element is total number of gridpoints' + \\\n",
    "      '\\n and the second element is number of idiosyncratic state variables' + \\\n",
    "      '\\n whose values also are of dimension of '+str(EX3SS['Copula']['value'].shape[0]) + \\\n",
    "      '\\n each entry of which is the probability that all three of the'\n",
    "      '\\n state variables are below the corresponding point.')"
   ]
  },
  {
   "cell_type": "code",
   "execution_count": 5,
   "metadata": {
    "code_folding": []
   },
   "outputs": [],
   "source": [
    "## Import BL codes\n",
    "\n",
    "import sys \n",
    "\n",
    "# Relative directory for BL codes \n",
    "sys.path.insert(0,'../../../..')  # comment by TW: this is not the same as in TwoAsset.ipynb. \n",
    "from HARK.BayerLuetticke.Assets.Two.FluctuationsTwoAsset import FluctuationsTwoAsset, SGU_solver, plot_IRF"
   ]
  },
  {
   "cell_type": "code",
   "execution_count": 6,
   "metadata": {
    "code_folding": []
   },
   "outputs": [],
   "source": [
    "## Import other necessary libraries\n",
    "\n",
    "import numpy as np\n",
    "#from numpy.linalg import matrix_rank\n",
    "import scipy as sc\n",
    "import matplotlib.pyplot as plt\n",
    "\n",
    "import time\n",
    "import scipy.fftpack as sf  # scipy discrete fourier transforms\n",
    "from mpl_toolkits.mplot3d import Axes3D\n",
    "from matplotlib.ticker import LinearLocator, FormatStrFormatter\n",
    "from matplotlib import cm\n",
    "from matplotlib import lines\n",
    "import seaborn as sns\n",
    "import copy as cp\n",
    "from scipy import linalg   #linear algebra\n",
    "\n",
    "import time"
   ]
  },
  {
   "cell_type": "code",
   "execution_count": 7,
   "metadata": {
    "code_folding": []
   },
   "outputs": [],
   "source": [
    "## Choose an aggregate shock to perturb(one of three shocks: MP, TFP, Uncertainty)\n",
    "\n",
    "# EX3SS['par']['aggrshock']           = 'MP'\n",
    "# EX3SS['par']['rhoS']    = 0.0      # Persistence of variance\n",
    "# EX3SS['par']['sigmaS']  = 0.001    # STD of variance shocks\n",
    "\n",
    "#EX3SS['par']['aggrshock']           = 'TFP'\n",
    "#EX3SS['par']['rhoS']    = 0.95\n",
    "#EX3SS['par']['sigmaS']  = 0.0075\n",
    "    \n",
    "EX3SS['par']['aggrshock'] = 'Uncertainty'\n",
    "EX3SS['par']['rhoS'] = 0.84    # Persistence of variance\n",
    "EX3SS['par']['sigmaS'] = 0.54    # STD of variance shocks"
   ]
  },
  {
   "cell_type": "code",
   "execution_count": 8,
   "metadata": {
    "code_folding": [
     0
    ]
   },
   "outputs": [],
   "source": [
    "## Choose an accuracy of approximation with DCT\n",
    "\n",
    "### Determines number of basis functions chosen -- enough to match this accuracy\n",
    "### EX3SS is precomputed steady-state pulled in above\n",
    "EX3SS['par']['accuracy'] = 0.99999"
   ]
  },
  {
   "cell_type": "code",
   "execution_count": null,
   "metadata": {
    "code_folding": []
   },
   "outputs": [],
   "source": [
    "## Implement state reduction and DCT\n",
    "### Do state reduction on steady state\n",
    "EX3SR=FluctuationsTwoAsset(**EX3SS)   # Takes StE result as input and get ready to invoke state reduction operation\n",
    "SR=EX3SR.StateReduc()           # StateReduc is operated "
   ]
  },
  {
   "cell_type": "code",
   "execution_count": null,
   "metadata": {
    "code_folding": [],
    "lines_to_next_cell": 2
   },
   "outputs": [
    {
     "name": "stdout",
     "output_type": "stream",
     "text": [
      "What are the results from the state reduction?\n",
      "\n",
      "\n",
      "To achieve an accuracy of 0.99999\n",
      "\n",
      "The dimension of the policy functions is reduced to 154 from 3600\n",
      "The dimension of the marginal value functions is reduced to 94 from (30, 30, 4)\n",
      "The total number of control variables is 259=154+94+ # of other macro controls\n",
      "\n",
      "\n",
      "The copula represents the joint distribution with a vector of size (64, 60)\n",
      "The dimension of states including exogenous state, is 66\n",
      "It simply stacks all grids of different      \n",
      " state variables regardless of their joint distributions.      \n",
      " This is due to the assumption that the rank order remains the same.\n",
      "The total number of state variables is 62=60+ the number of macro states (like the interest rate)\n"
     ]
    }
   ],
   "source": [
    "# Measuring the effectiveness of the state reduction\n",
    "\n",
    "print('What are the results from the state reduction?')\n",
    "#print('Newly added attributes after the operation include \\n'+str(set(SR.keys())-set(EX3SS.keys())))\n",
    "\n",
    "print('\\n')\n",
    "\n",
    "print('To achieve an accuracy of '+str(EX3SS['par']['accuracy'])+'\\n') \n",
    "\n",
    "print('The dimension of the policy functions is reduced to '+str(SR['indexMUdct'].shape[0]) \\\n",
    "      +' from '+str(EX3SS['mpar']['nm']*EX3SS['mpar']['nk']*EX3SS['mpar']['nh'])\n",
    "      )\n",
    "print('The dimension of the marginal value functions is reduced to '+str(SR['indexVKdct'].shape[0]) \\\n",
    "      + ' from ' + str(EX3SS['Vk'].shape))\n",
    "print('The total number of control variables is '+str(SR['Contr'].shape[0])+'='+str(SR['indexMUdct'].shape[0]) + \\\n",
    "      '+'+str(SR['indexVKdct'].shape[0])+'+ # of other macro controls')\n",
    "print('\\n')\n",
    "print('The copula represents the joint distribution with a vector of size '+str(SR['Gamma_state'].shape) )\n",
    "print('The dimension of states including exogenous state, is ' +str(SR['Xss'].shape[0]))\n",
    "\n",
    "print('It simply stacks all grids of different\\\n",
    "      \\n state variables regardless of their joint distributions.\\\n",
    "      \\n This is due to the assumption that the rank order remains the same.')\n",
    "print('The total number of state variables is '+str(SR['State'].shape[0]) + '='+\\\n",
    "     str(SR['Gamma_state'].shape[1])+'+ the number of macro states (like the interest rate)')"
   ]
  },
  {
   "cell_type": "code",
   "execution_count": null,
   "metadata": {
    "code_folding": []
   },
   "outputs": [
    {
     "name": "stdout",
     "output_type": "stream",
     "text": [
      "SGU_solver\n"
     ]
    }
   ],
   "source": [
    "## solve the perturbed equilibrium\n",
    "## Codes are commented out for now as we have stored the solution in the pickle file. \n",
    "\n",
    "#start_time = time.perf_counter() \n",
    "\n",
    "print('SGU_solver')\n",
    "#SGUresult = SGU_solver(SR['Xss'],SR['Yss'],SR['Gamma_state'],SR['indexMUdct'],SR['indexVKdct'],SR['par'],SR['mpar'],SR['grid'],SR['targets'],SR['Copula'],SR['P_H'],SR['aggrshock'])\n",
    "\n",
    "#end_time = time.perf_counter()\n",
    "#print('Elapsed time is ',  (end_time-start_time), ' seconds.')"
   ]
  },
  {
   "cell_type": "code",
   "execution_count": null,
   "metadata": {},
   "outputs": [],
   "source": [
    "## tempoarily store the result as a pickle\n",
    "\n",
    "os.chdir(code_dir)\n",
    "#output = open('EX3SS_MP.p', 'wb')\n",
    "#pickle.dump(SGUresult, output)\n",
    "#output.close()"
   ]
  },
  {
   "cell_type": "code",
   "execution_count": null,
   "metadata": {},
   "outputs": [],
   "source": [
    "## reload the exquilibrium for MP shock\n",
    "\n",
    "MPresult = pickle.load(open('EX3SS_MP.p', 'rb'))"
   ]
  },
  {
   "cell_type": "code",
   "execution_count": null,
   "metadata": {},
   "outputs": [
    {
     "data": {
      "text/plain": [
       "dict_keys(['hx', 'gx', 'F1', 'F2', 'F3', 'F4', 'par'])"
      ]
     },
     "execution_count": 14,
     "metadata": {},
     "output_type": "execute_result"
    }
   ],
   "source": [
    "MPresult.keys()  \n",
    "\n",
    "## now need to figure out where the consumption function is stored "
   ]
  },
  {
   "cell_type": "code",
   "execution_count": null,
   "metadata": {},
   "outputs": [
    {
     "data": {
      "text/plain": [
       "(259, 62)"
      ]
     },
     "execution_count": 15,
     "metadata": {},
     "output_type": "execute_result"
    }
   ],
   "source": [
    "MPresult['gx'].shape  \n",
    "# 259 is the total number of control. 154 for consumption function, 94 for marginal value and other macro"
   ]
  },
  {
   "cell_type": "code",
   "execution_count": null,
   "metadata": {},
   "outputs": [
    {
     "data": {
      "text/plain": [
       "(62, 62)"
      ]
     },
     "execution_count": 16,
     "metadata": {},
     "output_type": "execute_result"
    }
   ],
   "source": [
    "MPresult['hx'].shape  \n",
    "\n",
    "## 62 is the size of Gamma state, 60 marginal distributions "
   ]
  },
  {
   "cell_type": "code",
   "execution_count": null,
   "metadata": {},
   "outputs": [
    {
     "data": {
      "text/plain": [
       "(321, 259)"
      ]
     },
     "execution_count": 17,
     "metadata": {},
     "output_type": "execute_result"
    }
   ],
   "source": [
    "MPresult['F4'].shape  "
   ]
  },
  {
   "cell_type": "markdown",
   "metadata": {},
   "source": [
    "### Graphical Illustration\n",
    "\n",
    "#### Policy/value functions\n",
    "\n",
    "Taking the consumption function as an example, we plot consumption by adjusters and non-adjusters over a range of $k$ and $m$ that encompasses 100 as well 90 percent of the mass of the distribution function,respectively.  \n",
    "\n",
    "We plot the functions for the each of the 4 values of the wage $h$.\n"
   ]
  },
  {
   "cell_type": "code",
   "execution_count": null,
   "metadata": {
    "code_folding": [
     0
    ],
    "scrolled": true
   },
   "outputs": [],
   "source": [
    "## Graphical illustration\n",
    "\n",
    "xi = EX3SS['par']['xi']\n",
    "invmutil = lambda x : (1./x)**(1./xi)  \n",
    "\n",
    "### convert marginal utilities back to consumption function\n",
    "mut_StE  =  EX3SS['mutil_c']\n",
    "mut_n_StE = EX3SS['mutil_c_n']    # marginal utility of non-adjusters\n",
    "mut_a_StE = EX3SS['mutil_c_a']   # marginal utility of adjusters \n",
    "\n",
    "c_StE = invmutil(mut_StE)\n",
    "cn_StE = invmutil(mut_n_StE)\n",
    "ca_StE = invmutil(mut_a_StE)\n",
    "\n",
    "\n",
    "### grid values \n",
    "dim_StE = mut_StE.shape\n",
    "mgrid = EX3SS['grid']['m']\n",
    "kgrid = EX3SS['grid']['k']\n",
    "hgrid = EX3SS['grid']['h']"
   ]
  },
  {
   "cell_type": "code",
   "execution_count": null,
   "metadata": {
    "code_folding": [
     0
    ]
   },
   "outputs": [],
   "source": [
    "## Define some functions to be used next\n",
    "\n",
    "def dct3d(x):\n",
    "    x0=sf.dct(x.copy(),axis=0,norm='ortho')\n",
    "    x1=sf.dct(x0.copy(),axis=1,norm='ortho')\n",
    "    x2=sf.dct(x1.copy(),axis=2,norm='ortho')\n",
    "    return x2\n",
    "\n",
    "def idct3d(x):\n",
    "    x2 = sf.idct(x.copy(),axis=2,norm='ortho')\n",
    "    x1 = sf.idct(x2.copy(),axis=1,norm='ortho')\n",
    "    x0 = sf.idct(x1.copy(),axis=0,norm='ortho') \n",
    "    return x0\n",
    "\n",
    "def DCTApprox(fullgrids,dct_index):\n",
    "    dim=fullgrids.shape\n",
    "    dctcoefs = dct3d(fullgrids)\n",
    "    dctcoefs_rdc = np.zeros(dim)\n",
    "    dctcoefs_rdc[dct_index]=dctcoefs[dct_index]\n",
    "    approxgrids = idct3d(dctcoefs_rdc)\n",
    "    return approxgrids"
   ]
  },
  {
   "cell_type": "markdown",
   "metadata": {},
   "source": [
    "Depending on the accuracy level, the DCT operation choses the necessary number of basis functions used to approximate consumption function at the full grids. This is illustrated in the p31-p34 in this [slides](https://www.dropbox.com/s/46fdxh0aphazm71/presentation_method.pdf?dl=0). We show this for both 1-dimensional (m or k) or 2-dimenstional grids (m and k) in the following. "
   ]
  },
  {
   "cell_type": "code",
   "execution_count": null,
   "metadata": {
    "code_folding": [
     0
    ],
    "scrolled": false
   },
   "outputs": [
    {
     "name": "stdout",
     "output_type": "stream",
     "text": [
      "154 basis functions used.\n",
      "37 basis functions used.\n",
      "14 basis functions used.\n",
      "5 basis functions used.\n"
     ]
    },
    {
     "data": {
      "image/png": "[encoded data removed]",
      "text/plain": [
       "<Figure size 576x576 with 4 Axes>"
      ]
     },
     "metadata": {
      "needs_background": "light"
     },
     "output_type": "display_data"
    }
   ],
   "source": [
    "## 2D graph of consumption function: c(m) fixing k and h\n",
    "\n",
    "\n",
    "## list of accuracy levels  \n",
    "Accuracy_BL    = 0.99999 # From BL\n",
    "Accuracy_Less0 = 0.999\n",
    "Accuracy_Less1 = 0.99\n",
    "Accuracy_Less2 = 0.95\n",
    "\n",
    "acc_lst = np.array([Accuracy_BL,Accuracy_Less0,Accuracy_Less1,Accuracy_Less2])\n",
    "\n",
    "## c(m) fixing k and h\n",
    "fig = plt.figure(figsize=(8,8))\n",
    "fig.suptitle('c at full grids and c approximated by DCT in different accuracy levels' \n",
    "             '\\n non-adjusters, fixing k and h',\n",
    "             fontsize=(13))\n",
    "fig.subplots_adjust(left=None, bottom=None, right=None, top=None, wspace=None, hspace=0.3)\n",
    "\n",
    "for idx in range(len(acc_lst)):\n",
    "    EX3SS_cp =cp.deepcopy(EX3SS) \n",
    "    EX3SS_cp['par']['accuracy'] = acc_lst[idx]\n",
    "    EX3SR_cp=FluctuationsTwoAsset(**EX3SS_cp)   # Takes StE result as input and get ready to invoke state reduction operation\n",
    "    SR_cp=EX3SR_cp.StateReduc()\n",
    "    mut_rdc_idx_flt_cp = SR_cp['indexMUdct']\n",
    "    mut_rdc_idx_cp = np.unravel_index(mut_rdc_idx_flt_cp,dim_StE,order='F')\n",
    "    nb_bf_cp = len(mut_rdc_idx_cp[0])\n",
    "    print(str(nb_bf_cp) +\" basis functions used.\")\n",
    "    c_n_approx_cp = DCTApprox(cn_StE,mut_rdc_idx_cp)\n",
    "    c_a_approx_cp = DCTApprox(ca_StE,mut_rdc_idx_cp)\n",
    "    cn_diff_cp = c_n_approx_cp-cn_StE\n",
    "    \n",
    "    # choose the fix grid of h and k\n",
    "    hgrid_fix=2  # fix level of h as an example \n",
    "    kgrid_fix=10  # fix level of k as an example\n",
    "    \n",
    "    # get the corresponding c function approximated by dct\n",
    "    cVec = c_a_approx_cp[:,kgrid_fix,hgrid_fix]\n",
    "    \n",
    "    ## plots \n",
    "    ax = fig.add_subplot(2,2,idx+1)\n",
    "    ax.plot(mgrid,cVec,label='c approximated by DCT')\n",
    "    ax.plot(mgrid,ca_StE[:,kgrid_fix,hgrid_fix],'--',label='c at full grids')\n",
    "    ax.plot(mgrid,cVec,'r*')\n",
    "    ax.set_xlabel('m',fontsize=13)\n",
    "    ax.set_ylabel(r'$c(m)$',fontsize=13)\n",
    "    ax.set_title(r'accuracy=${}$'.format(acc_lst[idx]))\n",
    "    ax.legend(loc=0)"
   ]
  },
  {
   "cell_type": "code",
   "execution_count": null,
   "metadata": {
    "code_folding": [
     0
    ]
   },
   "outputs": [
    {
     "name": "stdout",
     "output_type": "stream",
     "text": [
      "154 basis functions used.\n",
      "37 basis functions used.\n",
      "14 basis functions used.\n",
      "5 basis functions used.\n"
     ]
    },
    {
     "data": {
      "image/png": "[encoded data removed]",
      "text/plain": [
       "<Figure size 576x576 with 4 Axes>"
      ]
     },
     "metadata": {
      "needs_background": "light"
     },
     "output_type": "display_data"
    }
   ],
   "source": [
    "## 2D graph of consumption function: c(k) fixing m and h\n",
    "\n",
    "fig = plt.figure(figsize=(8,8))\n",
    "fig.suptitle('c at full grids and c approximated by DCT in different accuracy levels' \n",
    "             '\\n non-adjusters, fixing m and h',\n",
    "             fontsize=(13))\n",
    "fig.subplots_adjust(left=None, bottom=None, right=None, top=None, wspace=None, hspace=0.3)\n",
    "\n",
    "for idx in range(len(acc_lst)):\n",
    "    EX3SS_cp =cp.deepcopy(EX3SS)\n",
    "    EX3SS_cp['par']['accuracy'] = acc_lst[idx]\n",
    "    EX3SR_cp=FluctuationsTwoAsset(**EX3SS_cp)   # Takes StE result as input and get ready to invoke state reduction operation\n",
    "    SR_cp=EX3SR_cp.StateReduc()\n",
    "    mut_rdc_idx_flt_cp= SR_cp['indexMUdct']\n",
    "    mut_rdc_idx_cp = np.unravel_index(mut_rdc_idx_flt_cp,dim_StE,order='F')\n",
    "    nb_bf_cp = len(mut_rdc_idx_cp[0])\n",
    "    print(str(nb_bf_cp) +\" basis functions used.\")\n",
    "    c_n_approx_cp = DCTApprox(cn_StE,mut_rdc_idx_cp)\n",
    "    c_a_approx_cp = DCTApprox(ca_StE,mut_rdc_idx_cp)\n",
    "    cn_diff_cp = c_n_approx_cp-cn_StE\n",
    "    \n",
    "    # choose the fix grid of h and m \n",
    "    hgrid_fix=2  # fix level of h as an example \n",
    "    mgrid_fix=10  # fix level of k as an example\n",
    "    \n",
    "    # get the corresponding c function approximated by dct\n",
    "    cVec = c_n_approx_cp[mgrid_fix,:,hgrid_fix]\n",
    "\n",
    "    ## plots \n",
    "    ax = fig.add_subplot(2,2,idx+1)\n",
    "    ax.plot(kgrid,cVec,label='c approximated by DCT')\n",
    "    ax.plot(kgrid,cn_StE[mgrid_fix,:,hgrid_fix],'--',label='c at full grids')\n",
    "    ax.plot(kgrid,cVec,'r*')\n",
    "    ax.set_xlabel('k',fontsize=13)\n",
    "    ax.set_ylabel(r'$c(k)$',fontsize=13)\n",
    "    ax.set_title(r'accuracy=${}$'.format(acc_lst[idx]))\n",
    "    ax.legend(loc=0)"
   ]
  },
  {
   "cell_type": "code",
   "execution_count": null,
   "metadata": {
    "code_folding": [
     0
    ]
   },
   "outputs": [
    {
     "name": "stdout",
     "output_type": "stream",
     "text": [
      "Input: plot the graph for bottom x (0-1) of the distribution.\n"
     ]
    }
   ],
   "source": [
    "## Set the population density for plotting graphs \n",
    "\n",
    "print('Input: plot the graph for bottom x (0-1) of the distribution.')\n",
    "mass_pct = float(input())\n",
    "\n",
    "print('Input:choose the accuracy level for DCT, i.e. 0.99999 in the basline of Bayer and Luetticke')\n",
    "Accuracy_BS = float(input()) ## baseline accuracy level "
   ]
  },
  {
   "cell_type": "code",
   "execution_count": null,
   "metadata": {
    "code_folding": [
     0
    ]
   },
   "outputs": [],
   "source": [
    "# Restore the solution corresponding to the original BL accuracy\n",
    "\n",
    "EX3SS['par']['accuracy'] = Accuracy_BS\n",
    "EX3SR=FluctuationsTwoAsset(**EX3SS)   # Takes StE result as input and get ready to invoke state reduction operation\n",
    "SR=EX3SR.StateReduc()           # StateReduc is operated \n",
    "\n",
    "## meshgrids for plots\n",
    "\n",
    "mmgrid,kkgrid = np.meshgrid(mgrid,kgrid)\n",
    "\n",
    "## indexMUdct is one dimension, needs to be unraveled to 3 dimensions\n",
    "mut_rdc_idx_flt = SR['indexMUdct']\n",
    "mut_rdc_idx = np.unravel_index(mut_rdc_idx_flt,dim_StE,order='F')\n",
    "\n",
    "## Note: the following chunk of codes can be used to recover the indices of grids selected by DCT. not used here.\n",
    "#nb_dct = len(mut_StE.flatten()) \n",
    "#mut_rdc_bool = np.zeros(nb_dct)     # boolean array of 30 x 30 x 4  \n",
    "#for i in range(nb_dct):\n",
    "#    mut_rdc_bool[i]=i in list(SR['indexMUdct'])\n",
    "#mut_rdc_bool_3d = (mut_rdc_bool==1).reshape(dim_StE)\n",
    "#mut_rdc_mask_3d = (mut_rdc_bool).reshape(dim_StE)\n",
    "\n",
    "## For BL accuracy level, get dct compressed c functions at all grids \n",
    "\n",
    "c_n_approx = DCTApprox(cn_StE,mut_rdc_idx)\n",
    "c_a_approx = DCTApprox(ca_StE,mut_rdc_idx)\n",
    "\n",
    "\n",
    "# Get the joint distribution calculated elsewhere\n",
    "\n",
    "joint_distr =  EX3SS['joint_distr']"
   ]
  },
  {
   "cell_type": "code",
   "execution_count": null,
   "metadata": {
    "code_folding": [
     0
    ]
   },
   "outputs": [],
   "source": [
    "## Functions used to plot consumption functions at the trimmed grids\n",
    "\n",
    "def WhereToTrim2d(joint_distr,mass_pct):\n",
    "    \"\"\"\n",
    "    parameters\n",
    "    -----------\n",
    "    marginal1: marginal pdf in the 1st dimension\n",
    "    marginal2: marginal pdf in the 2nd dimension\n",
    "    mass_pct: bottom percentile to keep \n",
    "    \n",
    "    returns\n",
    "    ----------\n",
    "    trim1_idx: idx for trimming in the 1s dimension\n",
    "    trim2_idx: idx for trimming in the 1s dimension\n",
    "    \"\"\"\n",
    "    \n",
    "    marginal1 = joint_distr.sum(axis=0)\n",
    "    marginal2 = joint_distr.sum(axis=1)\n",
    "    ## this can handle cases where the joint_distr itself is a marginal distr from 3d, \n",
    "    ##   i.e. marginal.cumsum().max() =\\= 1 \n",
    "    trim1_idx = (np.abs(marginal1.cumsum()-mass_pct*marginal1.cumsum().max())).argmin() \n",
    "    trim2_idx = (np.abs(marginal2.cumsum()-mass_pct*marginal2.cumsum().max())).argmin()\n",
    "    return trim1_idx,trim2_idx\n",
    "\n",
    "def TrimMesh2d(grids1,grids2,trim1_idx,trim2_idx,drop=True):\n",
    "    if drop ==True:\n",
    "        grids_trim1 = grids1.copy()\n",
    "        grids_trim2 = grids2.copy()\n",
    "        grids_trim1=grids_trim1[:trim1_idx]\n",
    "        grids_trim2=grids_trim2[:trim2_idx]\n",
    "        grids1_trimmesh, grids2_trimmesh = np.meshgrid(grids_trim1,grids_trim2)\n",
    "    else:\n",
    "        grids_trim1 = grids1.copy()\n",
    "        grids_trim2 = grids2.copy()\n",
    "        grids_trim1[trim1_idx:]=np.nan\n",
    "        grids_trim2[trim2_idx:]=np.nan\n",
    "        grids1_trimmesh, grids2_trimmesh = np.meshgrid(grids_trim1,grids_trim2)\n",
    "        \n",
    "    return grids1_trimmesh,grids2_trimmesh"
   ]
  },
  {
   "cell_type": "code",
   "execution_count": null,
   "metadata": {
    "code_folding": [
     0
    ]
   },
   "outputs": [],
   "source": [
    "## Other configurations for plotting \n",
    "\n",
    "distr_min = 0\n",
    "distr_max = np.nanmax(joint_distr)\n",
    "fontsize_lg = 13 \n",
    "\n",
    "## lower bound for grid \n",
    "mmin = np.nanmin(mgrid)\n",
    "kmin = np.nanmin(kgrid)"
   ]
  },
  {
   "cell_type": "code",
   "execution_count": null,
   "metadata": {
    "code_folding": [
     0
    ],
    "lines_to_next_cell": 2
   },
   "outputs": [],
   "source": [
    "# For non-adjusters: 3D surface plots of consumption function at full grids and approximated by DCT\n",
    "##    at all grids and grids after dct first for non-adjusters and then for adjusters\n",
    "\n",
    "\n",
    "fig = plt.figure(figsize=(14,14))\n",
    "fig.suptitle('Consumption of non-adjusters at grid points of m and k \\n where ' +str(int(mass_pct*100))+ ' % of the agents are distributed \\n (for each h)',\n",
    "             fontsize=(fontsize_lg))\n",
    "for hgrid_id in range(EX3SS['mpar']['nh']):\n",
    "    \n",
    "    ## get the grids and distr for fixed h\n",
    "    hgrid_fix = hgrid_id    \n",
    "    distr_fix = joint_distr[:,:,hgrid_fix]\n",
    "    c_n_approx_fix = c_n_approx[:,:,hgrid_fix]\n",
    "    c_n_StE_fix = cn_StE[:,:,hgrid_fix]\n",
    "    \n",
    "    ## additions to the above cell\n",
    "    ## for each h grid, take the 90% mass of m and k as the maximum of the m and k axis \n",
    "    mk_marginal = joint_distr[:,:,hgrid_fix]\n",
    "    mmax_idx, kmax_idx = WhereToTrim2d(mk_marginal,mass_pct)\n",
    "    mmax, kmax = mgrid[mmax_idx],kgrid[kmax_idx]\n",
    "    mmgrid_trim,kkgrid_trim = TrimMesh2d(mgrid,kgrid,mmax_idx,kmax_idx)\n",
    "    \n",
    "    c_n_approx_trim = c_n_approx_fix.copy()\n",
    "    c_n_approx_trim = c_n_approx_trim[:kmax_idx:,:mmax_idx]  # the dimension is transposed for meshgrid.\n",
    "    distr_fix_trim = distr_fix.copy()\n",
    "\n",
    "    cn_StE_trim = c_n_StE_fix.copy()\n",
    "    cn_StE_trim = cn_StE_trim[:kmax_idx,:mmax_idx]  \n",
    "    distr_fix_trim = distr_fix_trim[:kmax_idx,:mmax_idx]\n",
    "    \n",
    "    ## find the maximum z \n",
    "    zmax = np.nanmax(c_n_approx_trim)\n",
    "    \n",
    "    \n",
    "    ## plots \n",
    "    ax = fig.add_subplot(2,2,hgrid_id+1, projection='3d')\n",
    "    scatter = ax.scatter(mmgrid_trim,kkgrid_trim,cn_StE_trim,\n",
    "               marker='v',\n",
    "               color='red')\n",
    "    surface = ax.plot_surface(mmgrid_trim,kkgrid_trim,c_n_approx_trim,\n",
    "                    cmap='Blues')\n",
    "    fake2Dline = lines.Line2D([0],[0], \n",
    "                              linestyle=\"none\", \n",
    "                              c='b',\n",
    "                              marker='o') # fake line for making the legend for surface\n",
    "    \n",
    "    ax.contourf(mmgrid_trim,kkgrid_trim,distr_fix_trim, \n",
    "                zdir='z',\n",
    "                offset=np.min(distr_fix_trim),\n",
    "                cmap=cm.YlOrRd,\n",
    "                vmin=distr_min, \n",
    "                vmax=distr_max)\n",
    "    fake2Dline2 = lines.Line2D([0],[0], \n",
    "                              linestyle=\"none\", \n",
    "                              c='orange',\n",
    "                              marker='o') # fakeline for making the legend for surface\n",
    "    \n",
    "    ax.set_xlabel('m',fontsize=fontsize_lg)\n",
    "    ax.set_ylabel('k',fontsize=fontsize_lg)\n",
    "    ax.set_zlabel(r'$c_n(m,k)$',fontsize=fontsize_lg)\n",
    "    #ax.set_xlim([mmin,mmax])\n",
    "    ax.set_ylim([kmax,kmin])\n",
    "    ax.set_zlim([0,zmax])\n",
    "    ax.set_title(r'$h({})$'.format(hgrid_fix))\n",
    "    plt.gca().invert_xaxis()\n",
    "    #plt.gca().invert_yaxis()\n",
    "    ax.view_init(20, 70)\n",
    "    ax.legend([scatter,fake2Dline,fake2Dline2], \n",
    "              ['Full-grid c','Approximated c','Joint distribution'],\n",
    "              loc=0)"
   ]
  },
  {
   "cell_type": "code",
   "execution_count": null,
   "metadata": {
    "code_folding": [
     0
    ]
   },
   "outputs": [],
   "source": [
    "# For adjusters: 3D surface plots of consumption function at full grids and approximated by DCT \n",
    "\n",
    "    \n",
    "fig = plt.figure(figsize=(14,14))\n",
    "fig.suptitle('Consumption of adjusters at grid points of m and k \\n where ' +str(int(mass_pct*100))+ '% of agents are distributed  \\n (for each h)',\n",
    "             fontsize=(fontsize_lg))\n",
    "for hgrid_id in range(EX3SS['mpar']['nh']):\n",
    "    \n",
    "    ## get the grids and distr for fixed h\n",
    "    hgrid_fix=hgrid_id\n",
    "    c_a_StE_fix = ca_StE[:,:,hgrid_fix]\n",
    "    c_a_approx_fix = c_a_approx[:,:,hgrid_fix]\n",
    "    distr_fix = joint_distr[:,:,hgrid_fix]\n",
    "    \n",
    "    ## additions to the above cell\n",
    "    ## for each h grid, take the 90% mass of m and k as the maximum of the m and k axis \n",
    "    mk_marginal = joint_distr[:,:,hgrid_fix]\n",
    "    mmax_idx, kmax_idx = WhereToTrim2d(mk_marginal,mass_pct)\n",
    "    mmax, kmax = mgrid[mmax_idx],kgrid[kmax_idx]\n",
    "    mmgrid_trim,kkgrid_trim = TrimMesh2d(mgrid,kgrid,mmax_idx,kmax_idx)\n",
    "    c_a_approx_trim =c_a_approx_fix.copy()\n",
    "    c_a_approx_trim  = c_a_approx_trim[:kmax_idx,:mmax_idx]\n",
    "    distr_fix_trim = distr_fix.copy()\n",
    "    ca_StE_trim =c_a_StE_fix.copy()\n",
    "    ca_StE_trim = ca_StE_trim[:kmax_idx,:mmax_idx]    \n",
    "    distr_fix_trim = distr_fix_trim[:kmax_idx,:mmax_idx]\n",
    "\n",
    "    \n",
    "    # get the maximum z\n",
    "    zmax = np.nanmax(c_a_approx_trim)\n",
    "    \n",
    "    ## plots \n",
    "    ax = fig.add_subplot(2,2,hgrid_id+1, projection='3d')\n",
    "    ax.scatter(mmgrid_trim,kkgrid_trim,ca_StE_trim,marker='v',color='red',\n",
    "                    label='full-grid c:adjuster')\n",
    "    ax.plot_surface(mmgrid_trim,kkgrid_trim,c_a_approx_trim,cmap='Blues',\n",
    "               label='approximated c: adjuster')\n",
    "    fake2Dline = lines.Line2D([0],[0], \n",
    "                              linestyle=\"none\", \n",
    "                              c='b',\n",
    "                              marker='o') # fake line for making the legend for surface\n",
    "    ax.contourf(mmgrid_trim,kkgrid_trim,distr_fix_trim, \n",
    "                zdir='z',\n",
    "                offset=np.min(distr_fix_trim),\n",
    "                cmap=cm.YlOrRd,\n",
    "                vmin=distr_min,\n",
    "                vmax=distr_max)\n",
    "    fake2Dline2 = lines.Line2D([0],[0], \n",
    "                              linestyle=\"none\", \n",
    "                              c='orange',\n",
    "                              marker='o') # fakeline for making the legend for surface\n",
    "    ax.set_xlabel('m',fontsize=fontsize_lg)\n",
    "    ax.set_ylabel('k',fontsize=fontsize_lg)\n",
    "    ax.set_zlabel(r'$c_a(m,k)$',fontsize=fontsize_lg)\n",
    "    #ax.set_xlim([mmin,mmax])\n",
    "    ax.set_ylim([kmax,kmin])\n",
    "    plt.gca().invert_xaxis()\n",
    "    #plt.gca().invert_yaxis()\n",
    "    ax.set_zlim([0,zmax])\n",
    "    ax.set_title(r'$h({})$'.format(hgrid_fix))\n",
    "    ax.view_init(20, 70)\n",
    "    ax.legend([scatter,fake2Dline,fake2Dline2], \n",
    "              ['Full-grid c','Approx c','Joint distribution'],\n",
    "              loc=0)"
   ]
  },
  {
   "cell_type": "code",
   "execution_count": null,
   "metadata": {
    "code_folding": [
     0
    ]
   },
   "outputs": [],
   "source": [
    "## 3D scatter plots of the difference of full-grid c and approximated c for non-adjusters\n",
    "\n",
    "fig = plt.figure(figsize=(14,14))\n",
    "fig.suptitle('Approximation errors of non-adjusters at grid points of m and k \\n where ' +str(int(mass_pct*100))+ '% of agents are distributed \\n (for each h)',\n",
    "             fontsize=(fontsize_lg))\n",
    "for hgrid_id in range(EX3SS['mpar']['nh']):\n",
    "    \n",
    "    ## get the grids and distr for fixed h\n",
    "    hgrid_fix = hgrid_id    \n",
    "    cn_diff = c_n_approx-cn_StE\n",
    "    cn_diff_fix = cn_diff[:,:,hgrid_fix]\n",
    "    distr_fix = joint_distr[:,:,hgrid_fix]\n",
    "\n",
    "\n",
    "    ## additions to the above cell\n",
    "    ## for each h grid, take the 90% mass of m and k as the maximum of the m and k axis \n",
    "    mk_marginal = joint_distr[:,:,hgrid_fix]\n",
    "    mmax_idx, kmax_idx = WhereToTrim2d(mk_marginal,mass_pct)\n",
    "    mmax, kmax = mgrid[mmax_idx],kgrid[kmax_idx]\n",
    "    mmgrid_trim,kkgrid_trim = TrimMesh2d(mgrid,kgrid,mmax_idx,kmax_idx)\n",
    "    c_n_diff_trim = cn_diff_fix.copy()\n",
    "    c_n_diff_trim = c_n_diff_trim[:kmax_idx,:mmax_idx]  # first k and then m because c is is nk x nm \n",
    "    distr_fix_trim = distr_fix.copy()\n",
    "    distr_fix_trim = distr_fix_trim[:kmax_idx,:mmax_idx]\n",
    "\n",
    "\n",
    "    ## plots \n",
    "    ax = fig.add_subplot(2,2,hgrid_id+1, projection='3d')\n",
    "    \n",
    "    ax.plot_surface(mmgrid_trim,kkgrid_trim,c_n_diff_trim, \n",
    "                    rstride=1, \n",
    "                    cstride=1,\n",
    "                    cmap=cm.coolwarm, \n",
    "                    edgecolor='none')\n",
    "    fake2Dline_pos = lines.Line2D([0],[0], \n",
    "                              linestyle=\"none\", \n",
    "                              c='r',\n",
    "                              marker='o') # fakeline for making the legend for surface\n",
    "    fake2Dline_neg = lines.Line2D([0],[0], \n",
    "                              linestyle=\"none\", \n",
    "                              c='b',\n",
    "                              marker='o') # fakeline for making the legend for surface\n",
    "    ax.contourf(mmgrid_trim,kkgrid_trim,distr_fix_trim,\n",
    "                zdir='z',\n",
    "                offset=np.min(c_n_diff_trim),\n",
    "                cmap=cm.YlOrRd,\n",
    "                vmin=distr_min,\n",
    "                vmax=distr_max)\n",
    "    fake2Dline2 = lines.Line2D([0],[0], \n",
    "                              linestyle=\"none\", \n",
    "                              c='orange',\n",
    "                              marker='o') # fakeline for making the legend for contour\n",
    "    ax.set_xlabel('m',fontsize=fontsize_lg)\n",
    "    ax.set_ylabel('k',fontsize=fontsize_lg)\n",
    "    ax.set_zlabel(r'$c_a(m,k)$',fontsize=fontsize_lg)\n",
    "    #ax.set_xlim([mmin,mmax])\n",
    "    ax.set_ylim([kmax,kmin])\n",
    "    plt.gca().invert_xaxis()\n",
    "    #plt.gca().invert_yaxis()\n",
    "    ax.set_title(r'$h({})$'.format(hgrid_fix))\n",
    "    ax.view_init(20, 40)\n",
    "    ax.legend([fake2Dline_pos,fake2Dline_neg,fake2Dline2], \n",
    "              ['Positive approx errors','Negative approx errors','Joint distribution'],\n",
    "              loc=0)"
   ]
  },
  {
   "cell_type": "code",
   "execution_count": null,
   "metadata": {
    "code_folding": [
     0
    ]
   },
   "outputs": [],
   "source": [
    "# Difference of full-grid c and DCT compressed c for each level of accuracy\n",
    "\n",
    "\n",
    "fig = plt.figure(figsize=(14,14))\n",
    "fig.suptitle('Approximation errors in different levels of accuracy \\n where ' +str(int(mass_pct*100))+ '% of agents are distributed \\n (non-adjusters)',\n",
    "             fontsize=(fontsize_lg))\n",
    "\n",
    "for idx in range(len(acc_lst)):\n",
    "    EX3SS_cp =cp.deepcopy(EX3SS)\n",
    "    EX3SS_cp['par']['accuracy'] = acc_lst[idx]\n",
    "    EX3SR_cp=FluctuationsTwoAsset(**EX3SS_cp)   # Takes StE result as input and get ready to invoke state reduction operation\n",
    "    SR_cp=EX3SR_cp.StateReduc()\n",
    "    mut_rdc_idx_flt_cp = SR_cp['indexMUdct']\n",
    "    mut_rdc_idx_cp = np.unravel_index(mut_rdc_idx_flt_cp,dim_StE,order='F')\n",
    "    nb_bf_cp = len(mut_rdc_idx_cp[0])\n",
    "    print(str(nb_bf_cp) +\" basis functions used.\")\n",
    "    c_n_approx_cp = DCTApprox(cn_StE,mut_rdc_idx_cp)\n",
    "    cn_diff_cp = c_n_approx_cp-cn_StE\n",
    "    \n",
    "    hgrid_fix=1  # fix level of h as an example \n",
    "    c_n_diff_cp_fix = cn_diff_cp[:,:,hgrid_fix]\n",
    "    distr_fix = joint_distr[:,:,hgrid_fix]\n",
    "    \n",
    "    ## for each h grid, take the 90% mass of m and k as the maximum of the m and k axis \n",
    "    mk_marginal = joint_distr[:,:,hgrid_fix]\n",
    "    mmax_idx, kmax_idx = WhereToTrim2d(mk_marginal,mass_pct)\n",
    "    mmax, kmax = mgrid[mmax_idx],kgrid[kmax_idx]\n",
    "    mmgrid_trim,kkgrid_trim = TrimMesh2d(mgrid,kgrid,mmax_idx,kmax_idx)\n",
    "    c_n_diff_cp_trim = c_n_diff_cp_fix.copy()\n",
    "    c_n_diff_cp_trim = c_n_diff_cp_trim[:kmax_idx:,:mmax_idx]\n",
    "    distr_fix_trim = distr_fix.copy()\n",
    "    distr_fix_trim = distr_fix_trim[:kmax_idx,:mmax_idx]\n",
    "    \n",
    "    ## plots \n",
    "    ax = fig.add_subplot(2,2,idx+1, projection='3d')\n",
    "    ax.plot_surface(mmgrid_trim,kkgrid_trim,c_n_diff_cp_trim, \n",
    "                    rstride=1, \n",
    "                    cstride=1,\n",
    "                    cmap=cm.coolwarm, \n",
    "                    edgecolor='none')\n",
    "    fake2Dline_pos = lines.Line2D([0],[0], \n",
    "                              linestyle=\"none\", \n",
    "                              c='r',\n",
    "                              marker='o') # fakeline for making the legend for surface\n",
    "    fake2Dline_neg = lines.Line2D([0],[0], \n",
    "                              linestyle=\"none\", \n",
    "                              c='b',\n",
    "                              marker='o') # fakeline for making the legend for surface\n",
    "    dst_contour = ax.contourf(mmgrid_trim,kkgrid_trim,distr_fix_trim, \n",
    "                              zdir='z',\n",
    "                              offset=np.min(-2),\n",
    "                              cmap=cm.YlOrRd,\n",
    "                              vmin=distr_min, \n",
    "                              vmax=distr_max)\n",
    "    fake2Dline2 = lines.Line2D([0],[0], \n",
    "                              linestyle=\"none\", \n",
    "                              c='orange',\n",
    "                              marker='o') # fakeline for making the legend for contour\n",
    "    ax.set_xlabel('m',fontsize=13)\n",
    "    ax.set_ylabel('k',fontsize=13)\n",
    "    ax.set_zlabel('Difference of c functions',fontsize=13)\n",
    "    #ax.set_xlim([mmin,mmax])\n",
    "    ax.set_ylim([kmax,kmin])\n",
    "    plt.gca().invert_xaxis()\n",
    "    #plt.gca().invert_yaxis()\n",
    "    ax.set_zlim([-2,2])  # these are magic numbers. need to fix\n",
    "    ax.set_title(r'accuracy=${}$'.format(acc_lst[idx]))\n",
    "    ax.view_init(10, 60)\n",
    "    ax.legend([fake2Dline_pos,fake2Dline_neg,fake2Dline2], \n",
    "              ['+ approx errors','- approx errors','Joint distribution'],\n",
    "              loc=0)"
   ]
  },
  {
   "cell_type": "code",
   "execution_count": null,
   "metadata": {
    "code_folding": [
     0
    ],
    "lines_to_next_cell": 2
   },
   "outputs": [],
   "source": [
    "# Difference of full-grid c and DCT compressed c for difference levels of accuracy\n",
    "\n",
    "fig = plt.figure(figsize=(14,14))\n",
    "fig.suptitle('Differences of approximation errors between adjusters/non-adjusters \\n where ' +str(int(mass_pct*100))+ '% of agents are distributed \\n in different accuracy levels',\n",
    "             fontsize=(fontsize_lg))\n",
    "\n",
    "for idx in range(len(acc_lst)):\n",
    "    EX3SS_cp =cp.deepcopy(EX3SS)\n",
    "    EX3SS_cp['par']['accuracy'] = acc_lst[idx]\n",
    "    EX3SR_cp=FluctuationsTwoAsset(**EX3SS_cp)   # Takes StE result as input and get ready to invoke state reduction operation\n",
    "    SR_cp=EX3SR_cp.StateReduc()\n",
    "    mut_rdc_idx_flt_cp = SR_cp['indexMUdct']\n",
    "    mut_rdc_idx_cp = np.unravel_index(mut_rdc_idx_flt_cp,dim_StE,order='F')\n",
    "    nb_bf_cp = len(mut_rdc_idx_cp[0])\n",
    "    print(str(nb_bf_cp) +\" basis functions used.\")\n",
    "    c_n_approx_cp = DCTApprox(cn_StE,mut_rdc_idx_cp)\n",
    "    c_a_approx_cp = DCTApprox(ca_StE,mut_rdc_idx_cp)\n",
    "    cn_diff_cp = c_n_approx_cp-cn_StE\n",
    "    ca_diff_cp = c_a_approx_cp-ca_StE\n",
    "    c_diff_cp_apx_error = ca_diff_cp - cn_diff_cp\n",
    "    \n",
    "    hgrid_fix=1  # fix level of h as an example \n",
    "    c_diff_cp_apx_error_fix = c_diff_cp_apx_error[:,:,hgrid_fix]\n",
    "    distr_fix = joint_distr[:,:,hgrid_fix]\n",
    "\n",
    "\n",
    "    ## additions to the above cell\n",
    "    ## for each h grid, take the 90% mass of m and k as the maximum of the m and k axis \n",
    "    mk_marginal = joint_distr[:,:,hgrid_fix]\n",
    "    mmax_idx, kmax_idx = WhereToTrim2d(mk_marginal,mass_pct)\n",
    "    mmax, kmax = mgrid[mmax_idx],kgrid[kmax_idx]\n",
    "    mmgrid_trim,kkgrid_trim = TrimMesh2d(mgrid,kgrid,mmax_idx,kmax_idx)\n",
    "    c_diff_cp_apx_error_trim = c_diff_cp_apx_error_fix.copy()\n",
    "    c_diff_cp_apx_error_trim = c_diff_cp_apx_error_trim[:kmax_idx,:mmax_idx]\n",
    "    distr_fix_trim = distr_fix.copy()\n",
    "    distr_fix_trim = distr_fix_trim[:kmax_idx,:mmax_idx]\n",
    "    \n",
    "    ## get the scale \n",
    "    zmin = np.nanmin(c_diff_cp_apx_error)\n",
    "    zmax = np.nanmax(c_diff_cp_apx_error)\n",
    "    \n",
    "    ## plots \n",
    "    ax = fig.add_subplot(2,2,idx+1, projection='3d')\n",
    "    ax.plot_surface(mmgrid_trim,kkgrid_trim,c_diff_cp_apx_error_trim, \n",
    "                    rstride=1, \n",
    "                    cstride=1,\n",
    "                    cmap=cm.coolwarm, \n",
    "                    edgecolor='none',\n",
    "                    label='Difference of full-grid and approximated consumption functions')\n",
    "    fake2Dline_pos = lines.Line2D([0],[0], \n",
    "                              linestyle=\"none\", \n",
    "                              c='r',\n",
    "                              marker='o') # fakeline for making the legend for surface\n",
    "    fake2Dline_neg = lines.Line2D([0],[0], \n",
    "                              linestyle=\"none\", \n",
    "                              c='b',\n",
    "                              marker='o') # fakeline for making the legend for surface\n",
    "    ax.contourf(mmgrid_trim,kkgrid_trim,distr_fix_trim,\n",
    "                zdir='z',\n",
    "                offset=np.min(-0.2),\n",
    "                cmap=cm.YlOrRd,\n",
    "                vmin=distr_min, \n",
    "                vmax=distr_max)\n",
    "    fake2Dline2 = lines.Line2D([0],[0], \n",
    "                              linestyle=\"none\", \n",
    "                              c='orange',\n",
    "                              marker='o') # fakeline for making the legend for contour\n",
    "    ax.set_xlabel('m',fontsize=fontsize_lg)\n",
    "    ax.set_ylabel('k',fontsize=fontsize_lg)\n",
    "    ax.set_zlabel('Difference of approximation errors',fontsize=fontsize_lg)\n",
    "    #ax.set_xlim([mmin,mmax])\n",
    "    ax.set_ylim([kmax,kmin])\n",
    "    plt.gca().invert_xaxis()\n",
    "    #plt.gca().invert_yaxis()\n",
    "    ax.set_zlim([-0.2,0.2]) # these are magic numbers. need to fix\n",
    "    ax.set_title(r'accuracy=${}$'.format(acc_lst[idx]))\n",
    "    ax.view_init(10, 60)\n",
    "    ax.legend([fake2Dline_pos,fake2Dline_neg,fake2Dline2],\n",
    "              ['+ diff','- diff','Joint distribution'],\n",
    "              loc=0)"
   ]
  },
  {
   "cell_type": "markdown",
   "metadata": {},
   "source": [
    "##### Observation\n",
    "\n",
    "- For a given grid value of productivity, the remaining grid points after DCT to represent the whole consumption function are concentrated in low values of $k$ and $m$. This is because the slopes of the surfaces of marginal utility are changing the most in these regions.  For larger values of $k$ and $m$ the functions become smooth and only slightly concave, so they can be represented by many fewer points\n",
    "- For different grid values of productivity (2 sub plots), the numbers of grid points in the DCT operation differ. From the lowest to highest values of productivity, there are 78, 33, 25 and 18 grid points, respectively. They add up to the total number of gridpoints of 154 after DCT operation, as we noted above for marginal utility function. "
   ]
  },
  {
   "cell_type": "markdown",
   "metadata": {},
   "source": [
    "#### Distribution of states \n",
    "\n",
    "- We first plot the distribution of $k$ fixing $m$ and $h$. Next, we plot the joint distribution of $m$ and $k$ only fixing $h$ in 3-dimenstional space.  \n",
    "- The joint-distribution can be represented by marginal distributions of $m$, $k$ and $h$ and a copula that describes the correlation between the three states. The former is straightfoward. We plot the copula only. The copula is essentially a multivariate cummulative distribution function where each marginal is uniform. (Translation from the uniform to the appropriate nonuniform distribution is handled at a separate stage).\n"
   ]
  },
  {
   "cell_type": "code",
   "execution_count": null,
   "metadata": {
    "code_folding": [
     0
    ]
   },
   "outputs": [],
   "source": [
    "### Marginalize along h grids\n",
    "\n",
    "joint_distr =  EX3SS['joint_distr']\n",
    "joint_distr_km = EX3SS['joint_distr'].sum(axis=2)\n",
    "\n",
    "### Plot distributions in 2 dimensional graph \n",
    "\n",
    "fig = plt.figure(figsize=(10,10))\n",
    "plt.suptitle('Marginal distribution of k at different m \\n(for each h)')\n",
    "\n",
    "for hgrid_id in range(EX3SS['mpar']['nh']):\n",
    "    ax = plt.subplot(2,2,hgrid_id+1)\n",
    "    ax.set_title(r'$h({})$'.format(hgrid_id))\n",
    "    ax.set_xlabel('k',size=fontsize_lg)\n",
    "    for id in range(EX3SS['mpar']['nm']):   \n",
    "        ax.plot(kgrid,joint_distr[id,:,hgrid_id])"
   ]
  },
  {
   "cell_type": "code",
   "execution_count": null,
   "metadata": {
    "code_folding": [
     0
    ]
   },
   "outputs": [],
   "source": [
    "## Plot joint distribution of k and m in 3d graph\n",
    "#for only 90 percent of the distributions \n",
    "\n",
    "fig = plt.figure(figsize=(14,14))\n",
    "fig.suptitle('Joint distribution of m and k \\n where ' +str(int(mass_pct*100))+ '% agents are distributed \\n(for each h)',\n",
    "             fontsize=(fontsize_lg))\n",
    "\n",
    "for hgrid_id in range(EX3SS['mpar']['nh']):\n",
    "    \n",
    "    ## get the distr for fixed h\n",
    "    hgrid_fix = hgrid_id  \n",
    "    joint_km = joint_distr[:,:,hgrid_fix]\n",
    "    \n",
    "    ## additions to the above cell\n",
    "    ## for each h grid, take the 90% mass of m and k as the maximum of the m and k axis \n",
    "    mk_marginal = joint_distr[:,:,hgrid_fix]\n",
    "    mmax_idx, kmax_idx = WhereToTrim2d(mk_marginal,mass_pct)\n",
    "    mmax, kmax = mgrid[mmax_idx],kgrid[kmax_idx]\n",
    "    mmgrid_trim,kkgrid_trim = TrimMesh2d(mgrid,kgrid,mmax_idx,kmax_idx)\n",
    "    joint_km_trim = joint_km.copy()\n",
    "    joint_km_trim  = joint_km_trim[:kmax_idx,:mmax_idx]\n",
    "    \n",
    "    # get the maximum z\n",
    "    zmax = np.nanmax(joint_distr)\n",
    "    \n",
    "    ## plots \n",
    "    ax = fig.add_subplot(2,2,hgrid_id+1, projection='3d')\n",
    "    ax.plot_surface(mmgrid_trim,kkgrid_trim,joint_km_trim, \n",
    "                    rstride=1, \n",
    "                    cstride=1,\n",
    "                    cmap=cm.YlOrRd, \n",
    "                    edgecolor='none',\n",
    "                    vmin=distr_min, \n",
    "                    vmax=distr_max)\n",
    "    fake2Dline = lines.Line2D([0],[0], \n",
    "                              linestyle=\"none\", \n",
    "                              c='orange',\n",
    "                              marker='o') # fakeline for making the legend for contour\n",
    "    ax.set_xlabel('m',fontsize=fontsize_lg)\n",
    "    ax.set_ylabel('k',fontsize=fontsize_lg)\n",
    "    ax.set_zlabel('Probability',fontsize=fontsize_lg)\n",
    "    ax.set_title(r'$h({})$'.format(hgrid_id))\n",
    "    #ax.set_xlim([mmin,mmax])\n",
    "    ax.set_ylim([kmax,kmin])\n",
    "    ax.set_zlim([0,zmax])\n",
    "    plt.gca().invert_xaxis()\n",
    "    #plt.gca().invert_yaxis()\n",
    "    ax.view_init(20, 60)\n",
    "    ax.legend([fake2Dline], \n",
    "              ['joint distribution'],\n",
    "              loc=0)"
   ]
  },
  {
   "cell_type": "markdown",
   "metadata": {},
   "source": [
    "Notice the CDFs in StE copula have 4 modes, corresponding to the number of $h$ gridpoints. Each of the four parts of the cdf is a joint-distribution of $m$ and $k$.  It can be presented in 3-dimensional graph as below.  "
   ]
  },
  {
   "cell_type": "code",
   "execution_count": null,
   "metadata": {
    "code_folding": [
     0
    ]
   },
   "outputs": [],
   "source": [
    "## Plot the copula \n",
    "# same plot as above for only 90 percent of the distributions \n",
    "\n",
    "\n",
    "cdf=EX3SS['Copula']['value'].reshape(4,30,30)   # important: 4,30,30 not 30,30,4? \n",
    "\n",
    "fig = plt.figure(figsize=(14,14))\n",
    "fig.suptitle('Copula of m and k \\n where ' +str(int(mass_pct*100))+ '% agents are distributed \\n(for each h)',\n",
    "             fontsize=(fontsize_lg))\n",
    "for hgrid_id in range(EX3SS['mpar']['nh']):\n",
    "    \n",
    "    hgrid_fix = hgrid_id    \n",
    "    cdf_fix  = cdf[hgrid_fix,:,:]\n",
    "    \n",
    "    ## additions to the above cell\n",
    "    ## for each h grid, take the 90% mass of m and k as the maximum of the m and k axis \n",
    "    mk_marginal = joint_distr[:,:,hgrid_fix]\n",
    "    mmax_idx, kmax_idx = WhereToTrim2d(mk_marginal,mass_pct)\n",
    "    mmax, kmax = mgrid[mmax_idx],kgrid[kmax_idx]\n",
    "    mmgrid_trim,kkgrid_trim = TrimMesh2d(mgrid,kgrid,mmax_idx,kmax_idx)\n",
    "    cdf_fix_trim = cdf_fix.copy()\n",
    "    cdf_fix_trim  = cdf_fix_trim[:kmax_idx,:mmax_idx]\n",
    "    \n",
    "    ## plots \n",
    "    ax = fig.add_subplot(2,2,hgrid_id+1, projection='3d')\n",
    "    ax.plot_surface(mmgrid_trim,kkgrid_trim,cdf_fix_trim, \n",
    "                    rstride=1, \n",
    "                    cstride=1,\n",
    "                    cmap =cm.Greens, \n",
    "                    edgecolor='None')\n",
    "    fake2Dline = lines.Line2D([0],[0], \n",
    "                              linestyle=\"none\", \n",
    "                              c='green',\n",
    "                              marker='o')\n",
    "    ax.set_xlabel('m',fontsize=fontsize_lg)\n",
    "    ax.set_ylabel('k',fontsize=fontsize_lg)\n",
    "    ax.set_title(r'$h({})$'.format(hgrid_id))\n",
    "    \n",
    "    ## for each h grid, take the 95% mass of m and k as the maximum of the m and k axis \n",
    "    \n",
    "    marginal_mk = joint_distr[:,:,hgrid_id]\n",
    "    marginal_m = marginal_mk.sum(axis=0)\n",
    "    marginal_k = marginal_mk.sum(axis=1)\n",
    "    mmax = mgrid[(np.abs(marginal_m.cumsum()-mass_pct*marginal_m.cumsum().max())).argmin()]\n",
    "    kmax = kgrid[(np.abs(marginal_k.cumsum()-mass_pct*marginal_k.cumsum().max())).argmin()]\n",
    "    #ax.set_xlim([mmin,mmax])\n",
    "    ax.set_ylim([kmax,kmin])\n",
    "    plt.gca().invert_xaxis()\n",
    "    #plt.gca().invert_yaxis()\n",
    "    ax.view_init(30, 60)\n",
    "    ax.legend([fake2Dline], \n",
    "              ['Marginal cdf of the copula'],\n",
    "              loc=0)"
   ]
  },
  {
   "cell_type": "markdown",
   "metadata": {},
   "source": [
    "## More to do:\n",
    "\n",
    "1. Figure out median value of h and normalize c, m, and k by it"
   ]
  },
  {
   "cell_type": "markdown",
   "metadata": {},
   "source": [
    "Given the assumption that the copula remains the same after aggregate risk is introduced, we can use the same copula and the marginal distributions to recover the full joint-distribution of the states.  "
   ]
  },
  {
   "cell_type": "markdown",
   "metadata": {},
   "source": [
    "### Summary: what do we achieve after the transformation?\n",
    "\n",
    "- Using the DCT, the dimension of the policy and value functions are reduced from 3600 to 154 and 94, respectively.\n",
    "- By marginalizing the joint distribution with the fixed copula assumption, the marginal distribution is of dimension 64 compared to its joint distribution of a dimension of 3600.\n",
    "\n",
    "\n"
   ]
  }
 ],
 "metadata": {
  "cite2c": {
   "citations": {
    "6202365/L5GBWHBM": {
     "author": [
      {
       "family": "Reiter",
       "given": "Michael"
      }
     ],
     "container-title": "Journal of Economic Dynamics and Control",
     "id": "undefined",
     "issue": "1",
     "issued": {
      "month": 1,
      "year": 2010
     },
     "note": "Citation Key: reiterBackward",
     "page": "28-35",
     "page-first": "28",
     "title": "Solving the Incomplete Markets Model with Aggregate Uncertainty by Backward Induction",
     "type": "article-journal",
     "volume": "34"
    },
    "6202365/UKUXJHCN": {
     "author": [
      {
       "family": "Reiter",
       "given": "Michael"
      }
     ],
     "id": "6202365/UKUXJHCN",
     "note": "Citation Key: reiter2002recursive \nbibtex*[publisher=Citeseer]",
     "title": "Recursive computation of heterogeneous agent models",
     "type": "article-journal"
    },
    "6202365/VPUXICUR": {
     "author": [
      {
       "family": "Krusell",
       "given": "Per"
      },
      {
       "family": "Smith",
       "given": "Anthony A."
      }
     ],
     "container-title": "Journal of Political Economy",
     "id": "6202365/VPUXICUR",
     "issue": "5",
     "issued": {
      "year": 1998
     },
     "page": "867–896",
     "page-first": "867",
     "title": "Income and Wealth Heterogeneity in the Macroeconomy",
     "type": "article-journal",
     "volume": "106"
    },
    "6202365/WN76AW6Q": {
     "author": [
      {
       "family": "SeHyoun Ahn, Greg Kaplan, Benjamin Moll, Thomas Winberry",
       "given": ""
      },
      {
       "family": "Wolf",
       "given": "Christian"
      }
     ],
     "editor": [
      {
       "family": "Parker",
       "given": "Jonathan"
      },
      {
       "family": "Martin S. Eichenbaum",
       "given": "Organizers"
      }
     ],
     "id": "6202365/WN76AW6Q",
     "issued": {
      "year": 2017
     },
     "note": "Citation Key: akmwwInequality \nbibtex*[booktitle=NBER Macroeconomics Annual;publisher=MIT Press;location=Cambridge, MA]",
     "title": "When Inequality Matters for Macro and Macro Matters for Inequality",
     "type": "article-journal",
     "volume": "32"
    },
    "undefined": {
     "author": [
      {
       "family": "Reiter",
       "given": "Michael"
      }
     ],
     "container-title": "Journal of Economic Dynamics and Control",
     "id": "undefined",
     "issue": "1",
     "issued": {
      "month": 1,
      "year": 2010
     },
     "note": "Citation Key: reiterBackward",
     "page": "28-35",
     "page-first": "28",
     "title": "Solving the Incomplete Markets Model with Aggregate Uncertainty by Backward Induction",
     "type": "article-journal",
     "volume": "34"
    }
   }
  },
  "jupytext": {
   "formats": "ipynb,py:percent"
  },
  "kernelspec": {
   "display_name": "Python 3",
   "language": "python",
   "name": "python3"
  },
  "language_info": {
   "codemirror_mode": {
    "name": "ipython",
    "version": 3
   },
   "file_extension": ".py",
   "mimetype": "text/x-python",
   "name": "python",
   "nbconvert_exporter": "python",
   "pygments_lexer": "ipython3",
   "version": "3.7.3"
  },
  "latex_envs": {
   "LaTeX_envs_menu_present": true,
   "autoclose": false,
   "autocomplete": true,
   "bibliofile": "biblio.bib",
   "cite_by": "apalike",
   "current_citInitial": 1,
   "eqLabelWithNumbers": true,
   "eqNumInitial": 1,
   "hotkeys": {
    "equation": "Ctrl-E",
    "itemize": "Ctrl-I"
   },
   "labels_anchors": false,
   "latex_user_defs": false,
   "report_style_numbering": false,
   "user_envs_cfg": false
  },
  "varInspector": {
   "cols": {
    "lenName": 16,
    "lenType": 16,
    "lenVar": 40
   },
   "kernels_config": {
    "python": {
     "delete_cmd_postfix": "",
     "delete_cmd_prefix": "del ",
     "library": "var_list.py",
     "varRefreshCmd": "print(var_dic_list())"
    },
    "r": {
     "delete_cmd_postfix": ") ",
     "delete_cmd_prefix": "rm(",
     "library": "var_list.r",
     "varRefreshCmd": "cat(var_dic_list()) "
    }
   },
   "types_to_exclude": [
    "module",
    "function",
    "builtin_function_or_method",
    "instance",
    "_Feature"
   ],
   "window_display": false
  },
  "widgets": {
   "application/vnd.jupyter.widget-state+json": {
    "state": {},
    "version_major": 2,
    "version_minor": 0
   }
  }
 },
 "nbformat": 4,
 "nbformat_minor": 2
}
